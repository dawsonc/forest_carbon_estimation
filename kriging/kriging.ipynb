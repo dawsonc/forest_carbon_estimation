{
 "cells": [
  {
   "cell_type": "markdown",
   "metadata": {},
   "source": [
    "Kriging model to predict DBH of trees. Testing out how the model works. Based off of code from https://github.com/GeostatsGuy/PythonNumericalDemos/blob/master/GeostatsPy_kriging.ipynb"
   ]
  },
  {
   "cell_type": "markdown",
   "metadata": {},
   "source": [
    "Imports"
   ]
  },
  {
   "cell_type": "code",
   "execution_count": 1,
   "metadata": {},
   "outputs": [],
   "source": [
    "import geostatspy.GSLIB as GSLIB                        # GSLIB utilities, visualization and wrapper\n",
    "import geostatspy.geostats as geostats                  # GSLIB methods convert to Python \n",
    "import os                                               # to set current working directory \n",
    "import numpy as np                                      # arrays and matrix math\n",
    "import pandas as pd                                     # DataFrames\n",
    "import matplotlib.pyplot as plt                         # plotting"
   ]
  },
  {
   "cell_type": "markdown",
   "metadata": {},
   "source": [
    "Loading in the data. 100 trees of synthetic data that Charles generated"
   ]
  },
  {
   "cell_type": "code",
   "execution_count": 3,
   "metadata": {},
   "outputs": [
    {
     "name": "stdout",
     "output_type": "stream",
     "text": [
      "     dbh     species      x_pos     y_pos\n",
      "0  0.394  maple tree  30.657386 -9.170499\n",
      "1  0.289    ash tree  32.873083 -1.585234\n",
      "2  0.431   pine tree  39.673072 -7.299116\n",
      "3  0.262  maple tree  34.423390 -3.450089\n",
      "4  0.380  maple tree  31.229852 -9.288500\n"
     ]
    }
   ],
   "source": [
    "fraction_data = 1.0\n",
    "\n",
    "df = pd.read_csv(\"../data/100_trees.csv\") \n",
    "\n",
    "if fraction_data < 1.0:\n",
    "    df = df.sample(frac = fraction_data,replace = False,random_state = 73073)\n",
    "df = df.reset_index()\n",
    "df = df.iloc[:,1:] # excludes first columns, which is the index. \n",
    "print(df.head())"
   ]
  },
  {
   "cell_type": "markdown",
   "metadata": {},
   "source": [
    "some stats"
   ]
  },
  {
   "cell_type": "code",
   "execution_count": 4,
   "metadata": {},
   "outputs": [
    {
     "name": "stdout",
     "output_type": "stream",
     "text": [
      "       count       mean       std        min        25%        50%        75%  \\\n",
      "dbh    100.0   0.347170  0.080634   0.207000   0.280000   0.343000   0.413500   \n",
      "x_pos  100.0  35.047484  2.897364  30.001605  32.431433  34.941362  37.330071   \n",
      "y_pos  100.0  -4.979779  2.878138  -9.849504  -7.454089  -5.123176  -2.183567   \n",
      "\n",
      "             max  \n",
      "dbh     0.493000  \n",
      "x_pos  39.869315  \n",
      "y_pos  -0.051281  \n"
     ]
    }
   ],
   "source": [
    "print(df.describe().transpose())"
   ]
  }
 ],
 "metadata": {
  "kernelspec": {
   "display_name": "base",
   "language": "python",
   "name": "python3"
  },
  "language_info": {
   "codemirror_mode": {
    "name": "ipython",
    "version": 3
   },
   "file_extension": ".py",
   "mimetype": "text/x-python",
   "name": "python",
   "nbconvert_exporter": "python",
   "pygments_lexer": "ipython3",
   "version": "3.11.5"
  }
 },
 "nbformat": 4,
 "nbformat_minor": 2
}
